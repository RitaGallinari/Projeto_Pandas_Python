{
 "cells": [
  {
   "cell_type": "code",
   "execution_count": 1,
   "id": "8dc0fdfd",
   "metadata": {},
   "outputs": [],
   "source": [
    "#Trabalhando com Planilhas do Excel"
   ]
  },
  {
   "cell_type": "code",
   "execution_count": 7,
   "id": "7efde53c",
   "metadata": {},
   "outputs": [],
   "source": [
    "#Importando a biblioteca\n",
    "import pandas as pd"
   ]
  },
  {
   "cell_type": "code",
   "execution_count": 43,
   "id": "24cb9fdd",
   "metadata": {},
   "outputs": [],
   "source": [
    "#Leitura dos arquivos\n",
    "df1 = pd.read_excel(\"produtos.xlsx\")\n",
    "df2 = pd.read_excel(\"produtos_preco.xlsx\")"
   ]
  },
  {
   "cell_type": "code",
   "execution_count": 44,
   "id": "3d572dc8",
   "metadata": {},
   "outputs": [
    {
     "data": {
      "text/html": [
       "<div>\n",
       "<style scoped>\n",
       "    .dataframe tbody tr th:only-of-type {\n",
       "        vertical-align: middle;\n",
       "    }\n",
       "\n",
       "    .dataframe tbody tr th {\n",
       "        vertical-align: top;\n",
       "    }\n",
       "\n",
       "    .dataframe thead th {\n",
       "        text-align: right;\n",
       "    }\n",
       "</style>\n",
       "<table border=\"1\" class=\"dataframe\">\n",
       "  <thead>\n",
       "    <tr style=\"text-align: right;\">\n",
       "      <th></th>\n",
       "      <th>NomeCat</th>\n",
       "      <th>IDProduto</th>\n",
       "      <th>CodProd</th>\n",
       "      <th>NomeProd</th>\n",
       "      <th>Peso</th>\n",
       "      <th>Estoque</th>\n",
       "      <th>Disponivel</th>\n",
       "      <th>Preco</th>\n",
       "      <th>Lancamento</th>\n",
       "      <th>EmDestaque</th>\n",
       "      <th>IDsFiltroItem</th>\n",
       "    </tr>\n",
       "  </thead>\n",
       "  <tbody>\n",
       "    <tr>\n",
       "      <th>0</th>\n",
       "      <td>Abraçadeira</td>\n",
       "      <td>6217460</td>\n",
       "      <td>170627.0</td>\n",
       "      <td>Abraçadeira rosca sem fim AE 913, 3/8\" a 1/2\",...</td>\n",
       "      <td>9</td>\n",
       "      <td>1</td>\n",
       "      <td>True</td>\n",
       "      <td>1.43</td>\n",
       "      <td>False</td>\n",
       "      <td>True</td>\n",
       "      <td>154994.0</td>\n",
       "    </tr>\n",
       "    <tr>\n",
       "      <th>1</th>\n",
       "      <td>Acessórios</td>\n",
       "      <td>6219164</td>\n",
       "      <td>370780.0</td>\n",
       "      <td>Adaptador SDS Plus p/ Mandril de 1/2 P HTOM 17257</td>\n",
       "      <td>5</td>\n",
       "      <td>1</td>\n",
       "      <td>True</td>\n",
       "      <td>0.00</td>\n",
       "      <td>False</td>\n",
       "      <td>True</td>\n",
       "      <td>154998.0</td>\n",
       "    </tr>\n",
       "    <tr>\n",
       "      <th>2</th>\n",
       "      <td>Acessórios</td>\n",
       "      <td>6216370</td>\n",
       "      <td>453674.0</td>\n",
       "      <td>Aplicador de Detergente - Karcher 93020540</td>\n",
       "      <td>175</td>\n",
       "      <td>1</td>\n",
       "      <td>True</td>\n",
       "      <td>0.00</td>\n",
       "      <td>False</td>\n",
       "      <td>True</td>\n",
       "      <td>154984.0</td>\n",
       "    </tr>\n",
       "    <tr>\n",
       "      <th>3</th>\n",
       "      <td>Acessórios</td>\n",
       "      <td>6216466</td>\n",
       "      <td>453691.0</td>\n",
       "      <td>Bico Turbo Simples  04 P/HD585 HD5/12 HD6/15 H...</td>\n",
       "      <td>553</td>\n",
       "      <td>1</td>\n",
       "      <td>True</td>\n",
       "      <td>0.00</td>\n",
       "      <td>False</td>\n",
       "      <td>True</td>\n",
       "      <td>154984.0</td>\n",
       "    </tr>\n",
       "    <tr>\n",
       "      <th>4</th>\n",
       "      <td>Acessórios</td>\n",
       "      <td>6139985</td>\n",
       "      <td>453901.0</td>\n",
       "      <td>Bocal com Cerdas para Limpadoras a Vapor  - Ka...</td>\n",
       "      <td>178</td>\n",
       "      <td>2</td>\n",
       "      <td>True</td>\n",
       "      <td>0.00</td>\n",
       "      <td>False</td>\n",
       "      <td>True</td>\n",
       "      <td>154984.0</td>\n",
       "    </tr>\n",
       "  </tbody>\n",
       "</table>\n",
       "</div>"
      ],
      "text/plain": [
       "       NomeCat  IDProduto   CodProd  \\\n",
       "0  Abraçadeira    6217460  170627.0   \n",
       "1   Acessórios    6219164  370780.0   \n",
       "2   Acessórios    6216370  453674.0   \n",
       "3   Acessórios    6216466  453691.0   \n",
       "4   Acessórios    6139985  453901.0   \n",
       "\n",
       "                                            NomeProd  Peso  Estoque  \\\n",
       "0  Abraçadeira rosca sem fim AE 913, 3/8\" a 1/2\",...     9        1   \n",
       "1  Adaptador SDS Plus p/ Mandril de 1/2 P HTOM 17257     5        1   \n",
       "2         Aplicador de Detergente - Karcher 93020540   175        1   \n",
       "3  Bico Turbo Simples  04 P/HD585 HD5/12 HD6/15 H...   553        1   \n",
       "4  Bocal com Cerdas para Limpadoras a Vapor  - Ka...   178        2   \n",
       "\n",
       "   Disponivel  Preco  Lancamento  EmDestaque  IDsFiltroItem  \n",
       "0        True   1.43       False        True       154994.0  \n",
       "1        True   0.00       False        True       154998.0  \n",
       "2        True   0.00       False        True       154984.0  \n",
       "3        True   0.00       False        True       154984.0  \n",
       "4        True   0.00       False        True       154984.0  "
      ]
     },
     "execution_count": 44,
     "metadata": {},
     "output_type": "execute_result"
    }
   ],
   "source": [
    "df1.head()"
   ]
  },
  {
   "cell_type": "code",
   "execution_count": 38,
   "id": "b4eaaccb",
   "metadata": {},
   "outputs": [
    {
     "data": {
      "text/plain": [
       "NomeCat           object\n",
       "IDProduto          int64\n",
       "CodProd          float64\n",
       "NomeProd          object\n",
       "Peso               int64\n",
       "Estoque            int64\n",
       "Disponivel          bool\n",
       "Preco            float64\n",
       "Lancamento          bool\n",
       "EmDestaque          bool\n",
       "IDsFiltroItem    float64\n",
       "dtype: object"
      ]
     },
     "execution_count": 38,
     "metadata": {},
     "output_type": "execute_result"
    }
   ],
   "source": [
    "#Verificando o tipo de dado de cada coluna\n",
    "df1.dtypes"
   ]
  },
  {
   "cell_type": "code",
   "execution_count": 45,
   "id": "00795f1f",
   "metadata": {},
   "outputs": [
    {
     "data": {
      "text/html": [
       "<div>\n",
       "<style scoped>\n",
       "    .dataframe tbody tr th:only-of-type {\n",
       "        vertical-align: middle;\n",
       "    }\n",
       "\n",
       "    .dataframe tbody tr th {\n",
       "        vertical-align: top;\n",
       "    }\n",
       "\n",
       "    .dataframe thead th {\n",
       "        text-align: right;\n",
       "    }\n",
       "</style>\n",
       "<table border=\"1\" class=\"dataframe\">\n",
       "  <thead>\n",
       "    <tr style=\"text-align: right;\">\n",
       "      <th></th>\n",
       "      <th>Código</th>\n",
       "      <th>Descrição do Produto</th>\n",
       "      <th>Referência</th>\n",
       "      <th>UN</th>\n",
       "      <th>Qtd</th>\n",
       "      <th>Preco</th>\n",
       "    </tr>\n",
       "  </thead>\n",
       "  <tbody>\n",
       "    <tr>\n",
       "      <th>10</th>\n",
       "      <td>453606</td>\n",
       "      <td>REGULADOR MDN G 30 ARGONIO</td>\n",
       "      <td>407785</td>\n",
       "      <td>PC</td>\n",
       "      <td>12</td>\n",
       "      <td>6,00</td>\n",
       "    </tr>\n",
       "    <tr>\n",
       "      <th>11</th>\n",
       "      <td>453608</td>\n",
       "      <td>VALVULA SECA CORTA CHAMA P/MAC. GASES VCFN-MG</td>\n",
       "      <td>407787</td>\n",
       "      <td>PC</td>\n",
       "      <td>25</td>\n",
       "      <td>31,00</td>\n",
       "    </tr>\n",
       "    <tr>\n",
       "      <th>12</th>\n",
       "      <td>453595</td>\n",
       "      <td>VALVULA SECA CORTA CHAMA P/MAC. OXIGENIO VCFN-MO</td>\n",
       "      <td>407788</td>\n",
       "      <td>PC</td>\n",
       "      <td>25</td>\n",
       "      <td>29,00</td>\n",
       "    </tr>\n",
       "    <tr>\n",
       "      <th>13</th>\n",
       "      <td>453592</td>\n",
       "      <td>VALVULA SECA CORTA CHAMA P/REG. GASES VCFN-RG</td>\n",
       "      <td>407789</td>\n",
       "      <td>PC</td>\n",
       "      <td>25</td>\n",
       "      <td>22,00</td>\n",
       "    </tr>\n",
       "    <tr>\n",
       "      <th>14</th>\n",
       "      <td>453593</td>\n",
       "      <td>VALVULA SECA CORTA CHAMA P/REG. OXIGENIO VCFN-RO</td>\n",
       "      <td>407790</td>\n",
       "      <td>PC</td>\n",
       "      <td>25</td>\n",
       "      <td>20,00</td>\n",
       "    </tr>\n",
       "  </tbody>\n",
       "</table>\n",
       "</div>"
      ],
      "text/plain": [
       "    Código                               Descrição do Produto  Referência  UN  \\\n",
       "10  453606                        REGULADOR MDN G 30 ARGONIO       407785  PC   \n",
       "11  453608     VALVULA SECA CORTA CHAMA P/MAC. GASES VCFN-MG       407787  PC   \n",
       "12  453595  VALVULA SECA CORTA CHAMA P/MAC. OXIGENIO VCFN-MO       407788  PC   \n",
       "13  453592     VALVULA SECA CORTA CHAMA P/REG. GASES VCFN-RG       407789  PC   \n",
       "14  453593  VALVULA SECA CORTA CHAMA P/REG. OXIGENIO VCFN-RO       407790  PC   \n",
       "\n",
       "    Qtd  Preco  \n",
       "10   12   6,00  \n",
       "11   25  31,00  \n",
       "12   25  29,00  \n",
       "13   25  22,00  \n",
       "14   25  20,00  "
      ]
     },
     "execution_count": 45,
     "metadata": {},
     "output_type": "execute_result"
    }
   ],
   "source": [
    "df2.tail()"
   ]
  },
  {
   "cell_type": "code",
   "execution_count": 46,
   "id": "d17689e3",
   "metadata": {},
   "outputs": [
    {
     "data": {
      "text/plain": [
       "Código                   int64\n",
       "Descrição do Produto    object\n",
       "Referência               int64\n",
       "UN                      object\n",
       "Qtd                      int64\n",
       "Preco                   object\n",
       "dtype: object"
      ]
     },
     "execution_count": 46,
     "metadata": {},
     "output_type": "execute_result"
    }
   ],
   "source": [
    "#Verificando o tipo de dado de cada coluna\n",
    "df2.dtypes"
   ]
  },
  {
   "cell_type": "code",
   "execution_count": 47,
   "id": "e413f676",
   "metadata": {},
   "outputs": [
    {
     "data": {
      "text/html": [
       "<div>\n",
       "<style scoped>\n",
       "    .dataframe tbody tr th:only-of-type {\n",
       "        vertical-align: middle;\n",
       "    }\n",
       "\n",
       "    .dataframe tbody tr th {\n",
       "        vertical-align: top;\n",
       "    }\n",
       "\n",
       "    .dataframe thead th {\n",
       "        text-align: right;\n",
       "    }\n",
       "</style>\n",
       "<table border=\"1\" class=\"dataframe\">\n",
       "  <thead>\n",
       "    <tr style=\"text-align: right;\">\n",
       "      <th></th>\n",
       "      <th>Código</th>\n",
       "      <th>Descrição do Produto</th>\n",
       "      <th>Referência</th>\n",
       "      <th>UN</th>\n",
       "      <th>Qtd</th>\n",
       "      <th>Preco</th>\n",
       "    </tr>\n",
       "  </thead>\n",
       "  <tbody>\n",
       "    <tr>\n",
       "      <th>10</th>\n",
       "      <td>453606</td>\n",
       "      <td>REGULADOR MDN G 30 ARGONIO</td>\n",
       "      <td>407785</td>\n",
       "      <td>PC</td>\n",
       "      <td>12</td>\n",
       "      <td>6.0</td>\n",
       "    </tr>\n",
       "    <tr>\n",
       "      <th>11</th>\n",
       "      <td>453608</td>\n",
       "      <td>VALVULA SECA CORTA CHAMA P/MAC. GASES VCFN-MG</td>\n",
       "      <td>407787</td>\n",
       "      <td>PC</td>\n",
       "      <td>25</td>\n",
       "      <td>31.0</td>\n",
       "    </tr>\n",
       "    <tr>\n",
       "      <th>12</th>\n",
       "      <td>453595</td>\n",
       "      <td>VALVULA SECA CORTA CHAMA P/MAC. OXIGENIO VCFN-MO</td>\n",
       "      <td>407788</td>\n",
       "      <td>PC</td>\n",
       "      <td>25</td>\n",
       "      <td>29.0</td>\n",
       "    </tr>\n",
       "    <tr>\n",
       "      <th>13</th>\n",
       "      <td>453592</td>\n",
       "      <td>VALVULA SECA CORTA CHAMA P/REG. GASES VCFN-RG</td>\n",
       "      <td>407789</td>\n",
       "      <td>PC</td>\n",
       "      <td>25</td>\n",
       "      <td>22.0</td>\n",
       "    </tr>\n",
       "    <tr>\n",
       "      <th>14</th>\n",
       "      <td>453593</td>\n",
       "      <td>VALVULA SECA CORTA CHAMA P/REG. OXIGENIO VCFN-RO</td>\n",
       "      <td>407790</td>\n",
       "      <td>PC</td>\n",
       "      <td>25</td>\n",
       "      <td>20.0</td>\n",
       "    </tr>\n",
       "  </tbody>\n",
       "</table>\n",
       "</div>"
      ],
      "text/plain": [
       "    Código                               Descrição do Produto  Referência  UN  \\\n",
       "10  453606                        REGULADOR MDN G 30 ARGONIO       407785  PC   \n",
       "11  453608     VALVULA SECA CORTA CHAMA P/MAC. GASES VCFN-MG       407787  PC   \n",
       "12  453595  VALVULA SECA CORTA CHAMA P/MAC. OXIGENIO VCFN-MO       407788  PC   \n",
       "13  453592     VALVULA SECA CORTA CHAMA P/REG. GASES VCFN-RG       407789  PC   \n",
       "14  453593  VALVULA SECA CORTA CHAMA P/REG. OXIGENIO VCFN-RO       407790  PC   \n",
       "\n",
       "    Qtd  Preco  \n",
       "10   12    6.0  \n",
       "11   25   31.0  \n",
       "12   25   29.0  \n",
       "13   25   22.0  \n",
       "14   25   20.0  "
      ]
     },
     "execution_count": 47,
     "metadata": {},
     "output_type": "execute_result"
    }
   ],
   "source": [
    "#Alterando o tipo de campo string to float\n",
    "\n",
    "df2['Preco'] = df2['Preco'].apply(lambda x: float(x.replace(\".\",\"\").replace(\",\",\".\")))\n",
    "df2.inplace = True\n",
    "df2.tail()\n",
    "\n",
    "# df2[\"Preco\"] = df2[\"Preco\"].astype(\"float64\")"
   ]
  },
  {
   "cell_type": "code",
   "execution_count": 48,
   "id": "170f872d",
   "metadata": {},
   "outputs": [
    {
     "data": {
      "text/plain": [
       "Código                    int64\n",
       "Descrição do Produto     object\n",
       "Referência                int64\n",
       "UN                       object\n",
       "Qtd                       int64\n",
       "Preco                   float64\n",
       "dtype: object"
      ]
     },
     "execution_count": 48,
     "metadata": {},
     "output_type": "execute_result"
    }
   ],
   "source": [
    "df2.dtypes"
   ]
  },
  {
   "cell_type": "code",
   "execution_count": null,
   "id": "2aa4e823",
   "metadata": {},
   "outputs": [],
   "source": []
  }
 ],
 "metadata": {
  "kernelspec": {
   "display_name": "Python 3 (ipykernel)",
   "language": "python",
   "name": "python3"
  },
  "language_info": {
   "codemirror_mode": {
    "name": "ipython",
    "version": 3
   },
   "file_extension": ".py",
   "mimetype": "text/x-python",
   "name": "python",
   "nbconvert_exporter": "python",
   "pygments_lexer": "ipython3",
   "version": "3.8.8"
  }
 },
 "nbformat": 4,
 "nbformat_minor": 5
}

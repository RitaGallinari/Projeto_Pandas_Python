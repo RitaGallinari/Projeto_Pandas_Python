{
 "cells": [
  {
   "cell_type": "code",
   "execution_count": 3,
   "id": "67d8b458",
   "metadata": {},
   "outputs": [
    {
     "data": {
      "text/html": [
       "<div>\n",
       "<style scoped>\n",
       "    .dataframe tbody tr th:only-of-type {\n",
       "        vertical-align: middle;\n",
       "    }\n",
       "\n",
       "    .dataframe tbody tr th {\n",
       "        vertical-align: top;\n",
       "    }\n",
       "\n",
       "    .dataframe thead th {\n",
       "        text-align: right;\n",
       "    }\n",
       "</style>\n",
       "<table border=\"1\" class=\"dataframe\">\n",
       "  <thead>\n",
       "    <tr style=\"text-align: right;\">\n",
       "      <th></th>\n",
       "      <th>NomeCat</th>\n",
       "      <th>IDProduto</th>\n",
       "      <th>CodProd</th>\n",
       "      <th>NomeProd</th>\n",
       "      <th>Peso</th>\n",
       "      <th>Estoque</th>\n",
       "      <th>Disponivel</th>\n",
       "      <th>Preco</th>\n",
       "      <th>Lancamento</th>\n",
       "      <th>EmDestaque</th>\n",
       "      <th>IDsFiltroItem</th>\n",
       "    </tr>\n",
       "  </thead>\n",
       "  <tbody>\n",
       "    <tr>\n",
       "      <th>0</th>\n",
       "      <td>Abraçadeira</td>\n",
       "      <td>6217460</td>\n",
       "      <td>170627.0</td>\n",
       "      <td>Abraçadeira rosca sem fim AE 913, 3/8\" a 1/2\",...</td>\n",
       "      <td>9</td>\n",
       "      <td>1</td>\n",
       "      <td>True</td>\n",
       "      <td>1.43</td>\n",
       "      <td>False</td>\n",
       "      <td>True</td>\n",
       "      <td>154994.0</td>\n",
       "    </tr>\n",
       "    <tr>\n",
       "      <th>1</th>\n",
       "      <td>Acessórios</td>\n",
       "      <td>6219164</td>\n",
       "      <td>370780.0</td>\n",
       "      <td>Adaptador SDS Plus p/ Mandril de 1/2 P HTOM 17257</td>\n",
       "      <td>5</td>\n",
       "      <td>1</td>\n",
       "      <td>True</td>\n",
       "      <td>0.00</td>\n",
       "      <td>False</td>\n",
       "      <td>True</td>\n",
       "      <td>154998.0</td>\n",
       "    </tr>\n",
       "    <tr>\n",
       "      <th>2</th>\n",
       "      <td>Acessórios</td>\n",
       "      <td>6216370</td>\n",
       "      <td>453674.0</td>\n",
       "      <td>Aplicador de Detergente - Karcher 93020540</td>\n",
       "      <td>175</td>\n",
       "      <td>1</td>\n",
       "      <td>True</td>\n",
       "      <td>0.00</td>\n",
       "      <td>False</td>\n",
       "      <td>True</td>\n",
       "      <td>154984.0</td>\n",
       "    </tr>\n",
       "    <tr>\n",
       "      <th>3</th>\n",
       "      <td>Acessórios</td>\n",
       "      <td>6216466</td>\n",
       "      <td>453691.0</td>\n",
       "      <td>Bico Turbo Simples  04 P/HD585 HD5/12 HD6/15 H...</td>\n",
       "      <td>553</td>\n",
       "      <td>1</td>\n",
       "      <td>True</td>\n",
       "      <td>0.00</td>\n",
       "      <td>False</td>\n",
       "      <td>True</td>\n",
       "      <td>154984.0</td>\n",
       "    </tr>\n",
       "    <tr>\n",
       "      <th>4</th>\n",
       "      <td>Acessórios</td>\n",
       "      <td>6139985</td>\n",
       "      <td>453901.0</td>\n",
       "      <td>Bocal com Cerdas para Limpadoras a Vapor  - Ka...</td>\n",
       "      <td>178</td>\n",
       "      <td>2</td>\n",
       "      <td>True</td>\n",
       "      <td>0.00</td>\n",
       "      <td>False</td>\n",
       "      <td>True</td>\n",
       "      <td>154984.0</td>\n",
       "    </tr>\n",
       "  </tbody>\n",
       "</table>\n",
       "</div>"
      ],
      "text/plain": [
       "       NomeCat  IDProduto   CodProd  \\\n",
       "0  Abraçadeira    6217460  170627.0   \n",
       "1   Acessórios    6219164  370780.0   \n",
       "2   Acessórios    6216370  453674.0   \n",
       "3   Acessórios    6216466  453691.0   \n",
       "4   Acessórios    6139985  453901.0   \n",
       "\n",
       "                                            NomeProd  Peso  Estoque  \\\n",
       "0  Abraçadeira rosca sem fim AE 913, 3/8\" a 1/2\",...     9        1   \n",
       "1  Adaptador SDS Plus p/ Mandril de 1/2 P HTOM 17257     5        1   \n",
       "2         Aplicador de Detergente - Karcher 93020540   175        1   \n",
       "3  Bico Turbo Simples  04 P/HD585 HD5/12 HD6/15 H...   553        1   \n",
       "4  Bocal com Cerdas para Limpadoras a Vapor  - Ka...   178        2   \n",
       "\n",
       "   Disponivel  Preco  Lancamento  EmDestaque  IDsFiltroItem  \n",
       "0        True   1.43       False        True       154994.0  \n",
       "1        True   0.00       False        True       154998.0  \n",
       "2        True   0.00       False        True       154984.0  \n",
       "3        True   0.00       False        True       154984.0  \n",
       "4        True   0.00       False        True       154984.0  "
      ]
     },
     "execution_count": 3,
     "metadata": {},
     "output_type": "execute_result"
    }
   ],
   "source": [
    "#Manipulação de dados\n",
    "\n",
    "#importando biblioteca Pandas\n",
    "import pandas as pd\n",
    "\n",
    "#Leitura dos arquivos\n",
    "df = pd.read_excel(\"produtos.xlsx\")\n",
    "\n",
    "#importando biblioteca para análise exploratória\n",
    "import matplotlib.pyplot as plt\n",
    "#definindo estilo\n",
    "plt.style.use(\"seaborn\")\n",
    "df.head()\n"
   ]
  },
  {
   "cell_type": "code",
   "execution_count": 4,
   "id": "acde7d55",
   "metadata": {},
   "outputs": [
    {
     "data": {
      "text/plain": [
       "NomeCat           object\n",
       "IDProduto          int64\n",
       "CodProd          float64\n",
       "NomeProd          object\n",
       "Peso               int64\n",
       "Estoque            int64\n",
       "Disponivel          bool\n",
       "Preco            float64\n",
       "Lancamento          bool\n",
       "EmDestaque          bool\n",
       "IDsFiltroItem    float64\n",
       "dtype: object"
      ]
     },
     "execution_count": 4,
     "metadata": {},
     "output_type": "execute_result"
    }
   ],
   "source": [
    "#Verificando o tipo de dado de cada coluna\n",
    "df.dtypes"
   ]
  },
  {
   "cell_type": "code",
   "execution_count": 5,
   "id": "8bf846bd",
   "metadata": {},
   "outputs": [
    {
     "data": {
      "text/html": [
       "<div>\n",
       "<style scoped>\n",
       "    .dataframe tbody tr th:only-of-type {\n",
       "        vertical-align: middle;\n",
       "    }\n",
       "\n",
       "    .dataframe tbody tr th {\n",
       "        vertical-align: top;\n",
       "    }\n",
       "\n",
       "    .dataframe thead th {\n",
       "        text-align: right;\n",
       "    }\n",
       "</style>\n",
       "<table border=\"1\" class=\"dataframe\">\n",
       "  <thead>\n",
       "    <tr style=\"text-align: right;\">\n",
       "      <th></th>\n",
       "      <th>NomeCat</th>\n",
       "      <th>IDProduto</th>\n",
       "      <th>CodProd</th>\n",
       "      <th>NomeProd</th>\n",
       "      <th>Peso</th>\n",
       "      <th>Estoque</th>\n",
       "      <th>Disponivel</th>\n",
       "      <th>Preco</th>\n",
       "      <th>Lancamento</th>\n",
       "      <th>EmDestaque</th>\n",
       "      <th>IDsFiltroItem</th>\n",
       "    </tr>\n",
       "  </thead>\n",
       "  <tbody>\n",
       "    <tr>\n",
       "      <th>169</th>\n",
       "      <td>Furadeira e Parafusadeira</td>\n",
       "      <td>6263798</td>\n",
       "      <td>452894.0</td>\n",
       "      <td>NaN</td>\n",
       "      <td>0</td>\n",
       "      <td>1</td>\n",
       "      <td>True</td>\n",
       "      <td>31688.0</td>\n",
       "      <td>False</td>\n",
       "      <td>False</td>\n",
       "      <td>NaN</td>\n",
       "    </tr>\n",
       "    <tr>\n",
       "      <th>368</th>\n",
       "      <td>Serra Circular</td>\n",
       "      <td>6265305</td>\n",
       "      <td>455036.0</td>\n",
       "      <td>NaN</td>\n",
       "      <td>0</td>\n",
       "      <td>1</td>\n",
       "      <td>True</td>\n",
       "      <td>63387.0</td>\n",
       "      <td>True</td>\n",
       "      <td>False</td>\n",
       "      <td>NaN</td>\n",
       "    </tr>\n",
       "    <tr>\n",
       "      <th>36</th>\n",
       "      <td>Acessórios</td>\n",
       "      <td>6214691</td>\n",
       "      <td>453195.0</td>\n",
       "      <td>Jogo de pontas e chaves soquete - 43 peças Bos...</td>\n",
       "      <td>66</td>\n",
       "      <td>10</td>\n",
       "      <td>True</td>\n",
       "      <td>11891.0</td>\n",
       "      <td>False</td>\n",
       "      <td>True</td>\n",
       "      <td>154981.0</td>\n",
       "    </tr>\n",
       "    <tr>\n",
       "      <th>135</th>\n",
       "      <td>Disco Flap</td>\n",
       "      <td>6207555</td>\n",
       "      <td>455080.0</td>\n",
       "      <td>Disco Flap 115mm x 22,23mm Grão 120 Bosch 2608...</td>\n",
       "      <td>84</td>\n",
       "      <td>20</td>\n",
       "      <td>True</td>\n",
       "      <td>0.0</td>\n",
       "      <td>False</td>\n",
       "      <td>True</td>\n",
       "      <td>154981.0</td>\n",
       "    </tr>\n",
       "    <tr>\n",
       "      <th>178</th>\n",
       "      <td>Jogos de Chaves</td>\n",
       "      <td>6218762</td>\n",
       "      <td>454783.0</td>\n",
       "      <td>Jogo Chave Combinada 8 Peças 8 a 19mm Em Aço -...</td>\n",
       "      <td>8</td>\n",
       "      <td>1</td>\n",
       "      <td>True</td>\n",
       "      <td>0.0</td>\n",
       "      <td>False</td>\n",
       "      <td>True</td>\n",
       "      <td>154983.0</td>\n",
       "    </tr>\n",
       "  </tbody>\n",
       "</table>\n",
       "</div>"
      ],
      "text/plain": [
       "                       NomeCat  IDProduto   CodProd  \\\n",
       "169  Furadeira e Parafusadeira    6263798  452894.0   \n",
       "368             Serra Circular    6265305  455036.0   \n",
       "36                  Acessórios    6214691  453195.0   \n",
       "135                 Disco Flap    6207555  455080.0   \n",
       "178            Jogos de Chaves    6218762  454783.0   \n",
       "\n",
       "                                              NomeProd  Peso  Estoque  \\\n",
       "169                                                NaN     0        1   \n",
       "368                                                NaN     0        1   \n",
       "36   Jogo de pontas e chaves soquete - 43 peças Bos...    66       10   \n",
       "135  Disco Flap 115mm x 22,23mm Grão 120 Bosch 2608...    84       20   \n",
       "178  Jogo Chave Combinada 8 Peças 8 a 19mm Em Aço -...     8        1   \n",
       "\n",
       "     Disponivel    Preco  Lancamento  EmDestaque  IDsFiltroItem  \n",
       "169        True  31688.0       False       False            NaN  \n",
       "368        True  63387.0        True       False            NaN  \n",
       "36         True  11891.0       False        True       154981.0  \n",
       "135        True      0.0       False        True       154981.0  \n",
       "178        True      0.0       False        True       154983.0  "
      ]
     },
     "execution_count": 5,
     "metadata": {},
     "output_type": "execute_result"
    }
   ],
   "source": [
    "df.sample(5)"
   ]
  },
  {
   "cell_type": "code",
   "execution_count": 7,
   "id": "c9bc89b4",
   "metadata": {},
   "outputs": [
    {
     "data": {
      "text/plain": [
       "Acessórios                   52\n",
       "Lavadoras de Alta Pressão    44\n",
       "Jogos de Chaves              17\n",
       "Alicates                     17\n",
       "Aspiradores                  14\n",
       "Lav. e Sec. de Pisos         13\n",
       "Martelete Perfurador         13\n",
       "Furadeira e Parafusadeira    12\n",
       "Serra Tico-Tico              11\n",
       "Serra Mármore                11\n",
       "Macaco Hidráulico            11\n",
       "Esmerilhadeira               10\n",
       "Carregador de Bateria         9\n",
       "Politriz                      8\n",
       "Cinta Amarração Catraca       8\n",
       "Eletrodos                     8\n",
       "Disco Flap                    8\n",
       "Lixadeira                     8\n",
       "Máquina Solda Mig             7\n",
       "Pistola para Pintura          7\n",
       "Retifica                      7\n",
       "Limpadora Extratora           6\n",
       "Serra Circular                6\n",
       "Soprador                      6\n",
       "Plaina                        6\n",
       "Martelete Demolidor           6\n",
       "Bico de Corte                 5\n",
       "Ferramentas Bateria           5\n",
       "Retificador/Inversor          5\n",
       "Cortador de Metal             5\n",
       "Kits                          4\n",
       "Disco de Desbate              4\n",
       "Lona                          4\n",
       "Disco de Lixa                 4\n",
       "Disco de Corte                4\n",
       "Limpadora a vapor             4\n",
       "Martelos e Marretas           4\n",
       "Válvula Retenção              4\n",
       "Chaves Ajustáveis             4\n",
       "Multímetro                    3\n",
       "Varredeiras                   3\n",
       "Serra de Esquadria            3\n",
       "Regulador Pressão             3\n",
       "Tocha para Solda              3\n",
       "Guincho Elétrico              2\n",
       "Máscara de Solda              2\n",
       "Máquina de Pintura            2\n",
       "Bolsa e Mochila               2\n",
       "Mangueira                     2\n",
       "Arames                        2\n",
       "Níveis a Laser                2\n",
       "Transformador de Solda        1\n",
       "Talha Alavanca                1\n",
       "Arcos de Serra                1\n",
       "Maçarico                      1\n",
       "Abraçadeira                   1\n",
       "Name: NomeCat, dtype: int64"
      ]
     },
     "execution_count": 7,
     "metadata": {},
     "output_type": "execute_result"
    }
   ],
   "source": [
    "df[\"NomeCat\"].value_counts(ascending=False)"
   ]
  },
  {
   "cell_type": "code",
   "execution_count": 8,
   "id": "08a6aa8f",
   "metadata": {},
   "outputs": [
    {
     "data": {
      "text/plain": [
       "<AxesSubplot:>"
      ]
     },
     "execution_count": 8,
     "metadata": {},
     "output_type": "execute_result"
    },
    {
     "data": {
      "image/png": "[encoded data removed]",
      "text/plain": [
       "<Figure size 576x396 with 1 Axes>"
      ]
     },
     "metadata": {},
     "output_type": "display_data"
    }
   ],
   "source": [
    "#Gráfico de barras\n",
    "df[\"NomeCat\"].value_counts(ascending=False).plot.bar()\n",
    "\n",
    "#Gráfico de barras horizontais\n",
    "#df[\"NomeCat\"].value_counts().plot.barh()"
   ]
  },
  {
   "cell_type": "code",
   "execution_count": 26,
   "id": "38952e5d",
   "metadata": {},
   "outputs": [
    {
     "data": {
      "text/plain": [
       "<AxesSubplot:ylabel='Estoque'>"
      ]
     },
     "execution_count": 26,
     "metadata": {},
     "output_type": "execute_result"
    },
    {
     "data": {
      "image/png": "[encoded data removed]",
      "text/plain": [
       "<Figure size 576x396 with 1 Axes>"
      ]
     },
     "metadata": {},
     "output_type": "display_data"
    }
   ],
   "source": [
    "#Gráfico de Pizza\n",
    "dfEstoque = df.sort_values(\"Estoque\", ascending=False).head(10)\n",
    "dfEstoque.groupby('NomeCat')['Estoque'].sum().plot.pie()"
   ]
  },
  {
   "cell_type": "code",
   "execution_count": 27,
   "id": "e244b217",
   "metadata": {},
   "outputs": [
    {
     "data": {
      "image/png": "[encoded data removed]",
      "text/plain": [
       "<Figure size 576x396 with 1 Axes>"
      ]
     },
     "metadata": {},
     "output_type": "display_data"
    }
   ],
   "source": [
    "#Salvando em png\n",
    "dfEstoque.groupby(dfEstoque[\"NomeCat\"])[\"Estoque\"].sum().plot(marker = \"v\")\n",
    "plt.title(\"Quantidade Produtos por Categoria\")\n",
    "plt.xlabel(\"Categotia\")\n",
    "plt.ylabel(\"Total Produtos\");\n",
    "plt.legend()\n",
    "plt.savefig(\"grafico Produto_Categoria.png\")"
   ]
  },
  {
   "cell_type": "code",
   "execution_count": 13,
   "id": "2d068ebf",
   "metadata": {},
   "outputs": [
    {
     "data": {
      "image/png": "[encoded data removed]",
      "text/plain": [
       "<Figure size 576x396 with 1 Axes>"
      ]
     },
     "metadata": {},
     "output_type": "display_data"
    }
   ],
   "source": [
    "#Adicionando um título e alterando o nome dos eixos e cor\n",
    "dfEstoque[\"NomeCat\"].value_counts().plot.bar(title=\"Total Categorias\",color=\"orangered\")\n",
    "plt.xlabel(\"Categorias\")\n",
    "plt.ylabel(\"Total\");"
   ]
  },
  {
   "cell_type": "code",
   "execution_count": 21,
   "id": "606e8174",
   "metadata": {},
   "outputs": [
    {
     "data": {
      "text/html": [
       "<div>\n",
       "<style scoped>\n",
       "    .dataframe tbody tr th:only-of-type {\n",
       "        vertical-align: middle;\n",
       "    }\n",
       "\n",
       "    .dataframe tbody tr th {\n",
       "        vertical-align: top;\n",
       "    }\n",
       "\n",
       "    .dataframe thead th {\n",
       "        text-align: right;\n",
       "    }\n",
       "</style>\n",
       "<table border=\"1\" class=\"dataframe\">\n",
       "  <thead>\n",
       "    <tr style=\"text-align: right;\">\n",
       "      <th></th>\n",
       "      <th>NomeCat</th>\n",
       "      <th>IDProduto</th>\n",
       "      <th>CodProd</th>\n",
       "      <th>NomeProd</th>\n",
       "      <th>Peso</th>\n",
       "      <th>Estoque</th>\n",
       "      <th>Disponivel</th>\n",
       "      <th>Preco</th>\n",
       "      <th>Lancamento</th>\n",
       "      <th>EmDestaque</th>\n",
       "      <th>IDsFiltroItem</th>\n",
       "    </tr>\n",
       "  </thead>\n",
       "  <tbody>\n",
       "    <tr>\n",
       "      <th>268</th>\n",
       "      <td>Lixadeira</td>\n",
       "      <td>6263800</td>\n",
       "      <td>348711.0</td>\n",
       "      <td>NaN</td>\n",
       "      <td>0</td>\n",
       "      <td>1</td>\n",
       "      <td>True</td>\n",
       "      <td>50973.0</td>\n",
       "      <td>False</td>\n",
       "      <td>False</td>\n",
       "      <td>NaN</td>\n",
       "    </tr>\n",
       "    <tr>\n",
       "      <th>269</th>\n",
       "      <td>Lixadeira</td>\n",
       "      <td>6263801</td>\n",
       "      <td>347450.0</td>\n",
       "      <td>NaN</td>\n",
       "      <td>0</td>\n",
       "      <td>1</td>\n",
       "      <td>True</td>\n",
       "      <td>50973.0</td>\n",
       "      <td>False</td>\n",
       "      <td>False</td>\n",
       "      <td>NaN</td>\n",
       "    </tr>\n",
       "    <tr>\n",
       "      <th>270</th>\n",
       "      <td>Lixadeira</td>\n",
       "      <td>6214708</td>\n",
       "      <td>NaN</td>\n",
       "      <td>Lixadeira Excêntrica GEX 125-1 AE Profissional...</td>\n",
       "      <td>2105</td>\n",
       "      <td>10</td>\n",
       "      <td>True</td>\n",
       "      <td>50973.0</td>\n",
       "      <td>False</td>\n",
       "      <td>True</td>\n",
       "      <td>154981.0</td>\n",
       "    </tr>\n",
       "    <tr>\n",
       "      <th>271</th>\n",
       "      <td>Lixadeira</td>\n",
       "      <td>6214717</td>\n",
       "      <td>NaN</td>\n",
       "      <td>Lixadeira Orbital de Palma 200W 114mm 7232 SKIL</td>\n",
       "      <td>119</td>\n",
       "      <td>5</td>\n",
       "      <td>True</td>\n",
       "      <td>25624.0</td>\n",
       "      <td>False</td>\n",
       "      <td>True</td>\n",
       "      <td>154981.0</td>\n",
       "    </tr>\n",
       "    <tr>\n",
       "      <th>272</th>\n",
       "      <td>Lixadeira</td>\n",
       "      <td>6252045</td>\n",
       "      <td>NaN</td>\n",
       "      <td>Lixadeira Vibratória GSS 140 STD Bosch</td>\n",
       "      <td>138</td>\n",
       "      <td>1</td>\n",
       "      <td>True</td>\n",
       "      <td>28389.0</td>\n",
       "      <td>True</td>\n",
       "      <td>False</td>\n",
       "      <td>154981.0</td>\n",
       "    </tr>\n",
       "  </tbody>\n",
       "</table>\n",
       "</div>"
      ],
      "text/plain": [
       "       NomeCat  IDProduto   CodProd  \\\n",
       "268  Lixadeira    6263800  348711.0   \n",
       "269  Lixadeira    6263801  347450.0   \n",
       "270  Lixadeira    6214708       NaN   \n",
       "271  Lixadeira    6214717       NaN   \n",
       "272  Lixadeira    6252045       NaN   \n",
       "\n",
       "                                              NomeProd  Peso  Estoque  \\\n",
       "268                                                NaN     0        1   \n",
       "269                                                NaN     0        1   \n",
       "270  Lixadeira Excêntrica GEX 125-1 AE Profissional...  2105       10   \n",
       "271    Lixadeira Orbital de Palma 200W 114mm 7232 SKIL   119        5   \n",
       "272             Lixadeira Vibratória GSS 140 STD Bosch   138        1   \n",
       "\n",
       "     Disponivel    Preco  Lancamento  EmDestaque  IDsFiltroItem  \n",
       "268        True  50973.0       False       False            NaN  \n",
       "269        True  50973.0       False       False            NaN  \n",
       "270        True  50973.0       False        True       154981.0  \n",
       "271        True  25624.0       False        True       154981.0  \n",
       "272        True  28389.0        True       False       154981.0  "
      ]
     },
     "execution_count": 21,
     "metadata": {},
     "output_type": "execute_result"
    }
   ],
   "source": [
    "#Selecionando apenas Lixaderas\n",
    "df_Bateria = df[df[\"NomeCat\"] == \"Lixadeira\"]\n",
    "df_Bateria.tail()"
   ]
  },
  {
   "cell_type": "code",
   "execution_count": 19,
   "id": "bf2337b5",
   "metadata": {},
   "outputs": [
    {
     "data": {
      "text/plain": [
       "NomeCat\n",
       "Lixadeira    21\n",
       "Name: Estoque, dtype: int64"
      ]
     },
     "execution_count": 19,
     "metadata": {},
     "output_type": "execute_result"
    }
   ],
   "source": [
    "df_Bateria.groupby(df_Bateria[\"NomeCat\"])[\"Estoque\"].sum()"
   ]
  },
  {
   "cell_type": "code",
   "execution_count": null,
   "id": "24a28fc1",
   "metadata": {},
   "outputs": [],
   "source": []
  }
 ],
 "metadata": {
  "kernelspec": {
   "display_name": "Python 3 (ipykernel)",
   "language": "python",
   "name": "python3"
  },
  "language_info": {
   "codemirror_mode": {
    "name": "ipython",
    "version": 3
   },
   "file_extension": ".py",
   "mimetype": "text/x-python",
   "name": "python",
   "nbconvert_exporter": "python",
   "pygments_lexer": "ipython3",
   "version": "3.8.8"
  }
 },
 "nbformat": 4,
 "nbformat_minor": 5
}
